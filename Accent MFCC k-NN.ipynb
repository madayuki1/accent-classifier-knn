{
 "cells": [
  {
   "cell_type": "code",
   "execution_count": 14,
   "metadata": {
    "collapsed": true,
    "pycharm": {
     "name": "#%%\n"
    }
   },
   "outputs": [],
   "source": [
    "import os\n",
    "import numpy as np\n",
    "import librosa\n",
    "from sklearn.neighbors import KNeighborsClassifier\n",
    "from sklearn.model_selection import train_test_split\n",
    "from sklearn.metrics import accuracy_score, confusion_matrix\n",
    "import joblib"
   ]
  },
  {
   "cell_type": "code",
   "execution_count": 16,
   "outputs": [],
   "source": [
    "# Define the path to the audio files\n",
    "data_path = 'D:/DA/Skripsi/Datasets/AccentBased/'\n",
    "\n",
    "# Define the number of MFCC coefficients\n",
    "n_mfcc_c = 40 # 13 20 26\n",
    "\n",
    "# Define the number of neighbors for KNN\n",
    "n_neighbors_c = 3\n",
    "\n",
    "# Define the test size for train-test split\n",
    "test_size = 0.3\n",
    "\n",
    "# Frame size\n",
    "n_fft_c = 4096 #256 521 1024\n",
    "\n",
    "# Pre emphasis\n",
    "preemp_c = 0.97\n",
    "\n",
    "# Window\n",
    "window_type = 'hann'  # Choose window type (e.g., 'hann', 'hamming', 'blackman', etc.)\n",
    "window_size = 2048    # Choose window size (e.g., 2048, 4096, etc.)\n",
    "hop_length = 512      # Choose hop length (e.g., 512, 256, etc.)"
   ],
   "metadata": {
    "collapsed": false,
    "pycharm": {
     "name": "#%%\n"
    }
   }
  },
  {
   "cell_type": "code",
   "execution_count": 17,
   "outputs": [],
   "source": [
    "# Define a function to pre-process audio signals\n",
    "def preprocess_audio(audio, preemphasis = 0.97):\n",
    "    # Normalize the audio signal\n",
    "    audio_norm = librosa.util.normalize(audio)\n",
    "    # Apply pre-emphasis filter\n",
    "    pre_emphasis = preemphasis\n",
    "    audio_preemph = np.append(audio_norm[0], audio_norm[1:] - pre_emphasis * audio_norm[:-1])\n",
    "    return audio_preemph"
   ],
   "metadata": {
    "collapsed": false,
    "pycharm": {
     "name": "#%%\n"
    }
   }
  },
  {
   "cell_type": "code",
   "execution_count": 18,
   "outputs": [],
   "source": [
    "# Define a function to extract MFCC features from audio files\n",
    "def extract_features(file_path, n_mfcc = 20, preemphasis = 0.97, n_fft = 2048):\n",
    "    audio, sr = librosa.load(file_path)\n",
    "    audio_preprocessed = preprocess_audio(audio, preemphasis = preemphasis)\n",
    "    mfccs = librosa.feature.mfcc(y=audio_preprocessed, sr=sr, n_mfcc=n_mfcc, n_fft = n_fft)\n",
    "    # Test\n",
    "    # mfccs = librosa.feature.mfcc(y=audio_preprocessed, sr=sr)\n",
    "    # Flatten MFCCs into a 1D array using mean\n",
    "    mfccs = np.mean(mfccs, axis=1)\n",
    "\n",
    "    # Reshape MFCCs into a 2D array with a single row\n",
    "    mfccs = mfccs.reshape(1, -1)\n",
    "\n",
    "    # Turn the multidimensional array into 1 dimensional array\n",
    "    flattened_mfcc = mfccs.flatten()\n",
    "\n",
    "    return flattened_mfcc"
   ],
   "metadata": {
    "collapsed": false,
    "pycharm": {
     "name": "#%%\n"
    }
   }
  },
  {
   "cell_type": "code",
   "execution_count": 20,
   "outputs": [],
   "source": [
    "# Extract features from audio files in folder\n",
    "X = []\n",
    "y = []\n",
    "for file_name in os.listdir(data_path):\n",
    "    if file_name.endswith(\".wav\"):\n",
    "        file_path = os.path.join(data_path, file_name)\n",
    "        feature = extract_features(file_path, n_mfcc=n_mfcc_c, n_fft=n_fft_c)\n",
    "        X.append(feature)\n",
    "        label = file_name.split(\"_\")[0]  # Assume label is first part of file name before \"_\"\n",
    "        y.append(label)"
   ],
   "metadata": {
    "collapsed": false,
    "pycharm": {
     "name": "#%%\n"
    }
   }
  },
  {
   "cell_type": "code",
   "execution_count": 21,
   "outputs": [
    {
     "data": {
      "text/plain": "KNeighborsClassifier(n_neighbors=3)",
      "text/html": "<style>#sk-container-id-2 {color: black;background-color: white;}#sk-container-id-2 pre{padding: 0;}#sk-container-id-2 div.sk-toggleable {background-color: white;}#sk-container-id-2 label.sk-toggleable__label {cursor: pointer;display: block;width: 100%;margin-bottom: 0;padding: 0.3em;box-sizing: border-box;text-align: center;}#sk-container-id-2 label.sk-toggleable__label-arrow:before {content: \"▸\";float: left;margin-right: 0.25em;color: #696969;}#sk-container-id-2 label.sk-toggleable__label-arrow:hover:before {color: black;}#sk-container-id-2 div.sk-estimator:hover label.sk-toggleable__label-arrow:before {color: black;}#sk-container-id-2 div.sk-toggleable__content {max-height: 0;max-width: 0;overflow: hidden;text-align: left;background-color: #f0f8ff;}#sk-container-id-2 div.sk-toggleable__content pre {margin: 0.2em;color: black;border-radius: 0.25em;background-color: #f0f8ff;}#sk-container-id-2 input.sk-toggleable__control:checked~div.sk-toggleable__content {max-height: 200px;max-width: 100%;overflow: auto;}#sk-container-id-2 input.sk-toggleable__control:checked~label.sk-toggleable__label-arrow:before {content: \"▾\";}#sk-container-id-2 div.sk-estimator input.sk-toggleable__control:checked~label.sk-toggleable__label {background-color: #d4ebff;}#sk-container-id-2 div.sk-label input.sk-toggleable__control:checked~label.sk-toggleable__label {background-color: #d4ebff;}#sk-container-id-2 input.sk-hidden--visually {border: 0;clip: rect(1px 1px 1px 1px);clip: rect(1px, 1px, 1px, 1px);height: 1px;margin: -1px;overflow: hidden;padding: 0;position: absolute;width: 1px;}#sk-container-id-2 div.sk-estimator {font-family: monospace;background-color: #f0f8ff;border: 1px dotted black;border-radius: 0.25em;box-sizing: border-box;margin-bottom: 0.5em;}#sk-container-id-2 div.sk-estimator:hover {background-color: #d4ebff;}#sk-container-id-2 div.sk-parallel-item::after {content: \"\";width: 100%;border-bottom: 1px solid gray;flex-grow: 1;}#sk-container-id-2 div.sk-label:hover label.sk-toggleable__label {background-color: #d4ebff;}#sk-container-id-2 div.sk-serial::before {content: \"\";position: absolute;border-left: 1px solid gray;box-sizing: border-box;top: 0;bottom: 0;left: 50%;z-index: 0;}#sk-container-id-2 div.sk-serial {display: flex;flex-direction: column;align-items: center;background-color: white;padding-right: 0.2em;padding-left: 0.2em;position: relative;}#sk-container-id-2 div.sk-item {position: relative;z-index: 1;}#sk-container-id-2 div.sk-parallel {display: flex;align-items: stretch;justify-content: center;background-color: white;position: relative;}#sk-container-id-2 div.sk-item::before, #sk-container-id-2 div.sk-parallel-item::before {content: \"\";position: absolute;border-left: 1px solid gray;box-sizing: border-box;top: 0;bottom: 0;left: 50%;z-index: -1;}#sk-container-id-2 div.sk-parallel-item {display: flex;flex-direction: column;z-index: 1;position: relative;background-color: white;}#sk-container-id-2 div.sk-parallel-item:first-child::after {align-self: flex-end;width: 50%;}#sk-container-id-2 div.sk-parallel-item:last-child::after {align-self: flex-start;width: 50%;}#sk-container-id-2 div.sk-parallel-item:only-child::after {width: 0;}#sk-container-id-2 div.sk-dashed-wrapped {border: 1px dashed gray;margin: 0 0.4em 0.5em 0.4em;box-sizing: border-box;padding-bottom: 0.4em;background-color: white;}#sk-container-id-2 div.sk-label label {font-family: monospace;font-weight: bold;display: inline-block;line-height: 1.2em;}#sk-container-id-2 div.sk-label-container {text-align: center;}#sk-container-id-2 div.sk-container {/* jupyter's `normalize.less` sets `[hidden] { display: none; }` but bootstrap.min.css set `[hidden] { display: none !important; }` so we also need the `!important` here to be able to override the default hidden behavior on the sphinx rendered scikit-learn.org. See: https://github.com/scikit-learn/scikit-learn/issues/21755 */display: inline-block !important;position: relative;}#sk-container-id-2 div.sk-text-repr-fallback {display: none;}</style><div id=\"sk-container-id-2\" class=\"sk-top-container\"><div class=\"sk-text-repr-fallback\"><pre>KNeighborsClassifier(n_neighbors=3)</pre><b>In a Jupyter environment, please rerun this cell to show the HTML representation or trust the notebook. <br />On GitHub, the HTML representation is unable to render, please try loading this page with nbviewer.org.</b></div><div class=\"sk-container\" hidden><div class=\"sk-item\"><div class=\"sk-estimator sk-toggleable\"><input class=\"sk-toggleable__control sk-hidden--visually\" id=\"sk-estimator-id-2\" type=\"checkbox\" checked><label for=\"sk-estimator-id-2\" class=\"sk-toggleable__label sk-toggleable__label-arrow\">KNeighborsClassifier</label><div class=\"sk-toggleable__content\"><pre>KNeighborsClassifier(n_neighbors=3)</pre></div></div></div></div></div>"
     },
     "execution_count": 21,
     "metadata": {},
     "output_type": "execute_result"
    }
   ],
   "source": [
    "# Split the data into training and testing sets\n",
    "X_train, X_test, y_train, y_test = train_test_split(X, y, test_size=test_size, random_state=42)\n",
    "\n",
    "# Train a KNN classifier on the training set\n",
    "knn = KNeighborsClassifier(n_neighbors=n_neighbors_c)\n",
    "knn.fit(X_train, y_train)"
   ],
   "metadata": {
    "collapsed": false,
    "pycharm": {
     "name": "#%%\n"
    }
   }
  },
  {
   "cell_type": "code",
   "execution_count": 22,
   "outputs": [
    {
     "data": {
      "text/plain": "<Figure size 640x480 with 2 Axes>",
      "image/png": "[encoded data removed]"
     },
     "metadata": {},
     "output_type": "display_data"
    }
   ],
   "source": [
    "import seaborn as sns\n",
    "import matplotlib.pyplot as plt\n",
    "\n",
    "y_pred = knn.predict(X_test)\n",
    "cm = confusion_matrix(y_test, y_pred)\n",
    "\n",
    "# Set labels for the matrix\n",
    "labels = ['Lombok', 'Madura']\n",
    "\n",
    "# Create a heatmap using Seaborn\n",
    "sns.set(font_scale=1.4)\n",
    "sns.heatmap(cm, annot=True, fmt='d', cmap='Blues', xticklabels=labels, yticklabels=labels)\n",
    "\n",
    "# Add labels and title to the plot\n",
    "plt.xlabel('Predicted')\n",
    "plt.ylabel('Actual')\n",
    "plt.title(f'Confusion Matrix n_mfcc 40')\n",
    "plt.show()"
   ],
   "metadata": {
    "collapsed": false,
    "pycharm": {
     "name": "#%%\n"
    }
   }
  },
  {
   "cell_type": "code",
   "execution_count": 23,
   "outputs": [
    {
     "name": "stdout",
     "output_type": "stream",
     "text": [
      "Recall : 0.9830508474576272\n",
      "Precision : 0.9942857142857143\n",
      "F1 Score : 0.9886363636363638\n"
     ]
    }
   ],
   "source": [
    "from sklearn.metrics import f1_score, precision_score, recall_score\n",
    "# Lombok\n",
    "f1_lombok = f1_score(y_test, y_pred, average=\"binary\", pos_label=\"Lombok\")\n",
    "recall_lombok = recall_score(y_test, y_pred, average=\"binary\", pos_label=\"Lombok\")\n",
    "precision_lombok = precision_score(y_test, y_pred, average=\"binary\", pos_label=\"Lombok\")\n",
    "print(f\"Recall : {recall_lombok}\")\n",
    "print(f\"Precision : {precision_lombok}\")\n",
    "print(f\"F1 Score : {f1_lombok}\")"
   ],
   "metadata": {
    "collapsed": false,
    "pycharm": {
     "name": "#%%\n"
    }
   }
  },
  {
   "cell_type": "code",
   "execution_count": 24,
   "outputs": [
    {
     "name": "stdout",
     "output_type": "stream",
     "text": [
      "Recall : 0.9965397923875432\n",
      "Precision : 0.9896907216494846\n",
      "F1 Score : 0.993103448275862\n"
     ]
    }
   ],
   "source": [
    "# Madura\n",
    "f1_madura = f1_score(y_test, y_pred, average=\"binary\", pos_label=\"Madura\")\n",
    "recall_madura = recall_score(y_test, y_pred, average=\"binary\", pos_label=\"Madura\")\n",
    "precision_madura = precision_score(y_test, y_pred, average=\"binary\", pos_label=\"Madura\")\n",
    "print(f\"Recall : {recall_madura}\")\n",
    "print(f\"Precision : {precision_madura}\")\n",
    "print(f\"F1 Score : {f1_madura}\")"
   ],
   "metadata": {
    "collapsed": false,
    "pycharm": {
     "name": "#%%\n"
    }
   }
  },
  {
   "cell_type": "code",
   "execution_count": 25,
   "outputs": [
    {
     "data": {
      "text/plain": "['knn_model_test.pkl']"
     },
     "execution_count": 25,
     "metadata": {},
     "output_type": "execute_result"
    }
   ],
   "source": [
    "joblib.dump(knn, 'knn_model_test.pkl')"
   ],
   "metadata": {
    "collapsed": false,
    "pycharm": {
     "name": "#%%\n"
    }
   }
  }
 ],
 "metadata": {
  "kernelspec": {
   "display_name": "Python 3",
   "language": "python",
   "name": "python3"
  },
  "language_info": {
   "codemirror_mode": {
    "name": "ipython",
    "version": 2
   },
   "file_extension": ".py",
   "mimetype": "text/x-python",
   "name": "python",
   "nbconvert_exporter": "python",
   "pygments_lexer": "ipython2",
   "version": "2.7.6"
  }
 },
 "nbformat": 4,
 "nbformat_minor": 0
}