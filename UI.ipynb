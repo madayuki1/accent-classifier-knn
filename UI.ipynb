{
 "cells": [
  {
   "cell_type": "code",
   "execution_count": 1,
   "outputs": [],
   "source": [
    "import os\n",
    "import sys\n",
    "import librosa\n",
    "import numpy as np\n",
    "from PyQt5 import QtWidgets\n",
    "from PyQt5.QtGui import QFont\n",
    "import joblib"
   ],
   "metadata": {
    "collapsed": false,
    "pycharm": {
     "name": "#%%\n"
    }
   }
  },
  {
   "cell_type": "code",
   "execution_count": 2,
   "outputs": [],
   "source": [
    "class AccentClassifier(QtWidgets.QMainWindow):\n",
    "    def __init__(self):\n",
    "        super().__init__()\n",
    "        self.title = 'Accent Classifier'\n",
    "        self.width = 600\n",
    "        self.height = 350\n",
    "        self.initUI()\n",
    "\n",
    "    def initUI(self):\n",
    "        # Create the main window\n",
    "        self.setWindowTitle(self.title)\n",
    "        self.setGeometry(200, 200, self.width, self.height)\n",
    "\n",
    "        # Increase the font size by 50%\n",
    "        font = QFont()\n",
    "        font.setPointSizeF(font.pointSizeF() * 1.5)\n",
    "        self.setFont(font)\n",
    "\n",
    "        # Create a label for the file input\n",
    "        self.file_label = QtWidgets.QLabel(self)\n",
    "        self.file_label.setGeometry(40, 40, 250, 45)\n",
    "        self.file_label.setText(\"Select File:\")\n",
    "\n",
    "        # Create a button to select the audio file\n",
    "        self.select_file_button = QtWidgets.QPushButton(self)\n",
    "        self.select_file_button.setGeometry(350, 40, 125, 45)\n",
    "        self.select_file_button.setText(\"Browse...\")\n",
    "        self.select_file_button.clicked.connect(self.open_file_dialog)\n",
    "\n",
    "        # Create a button to predict the accent\n",
    "        self.predict_button = QtWidgets.QPushButton(self)\n",
    "        self.predict_button.setGeometry(225, 115, 150, 45)\n",
    "        self.predict_button.setText(\"Predict\")\n",
    "        self.predict_button.clicked.connect(self.predict_accent)\n",
    "\n",
    "        # Create a text section to display the result\n",
    "        self.result_text = QtWidgets.QTextEdit(self)\n",
    "        self.result_text.setGeometry(40, 185, 520, 130)\n",
    "        self.result_text.setReadOnly(True)\n",
    "\n",
    "        # Show the window\n",
    "        self.show()\n",
    "\n",
    "    def open_file_dialog(self):\n",
    "        # Open a file dialog to select an audio file\n",
    "        filename, _ = QtWidgets.QFileDialog.getOpenFileName(self, \"Open Audio File\", \"\", \"Audio Files (*.wav)\")\n",
    "        if filename:\n",
    "            self.file_label.setText(os.path.basename(filename))\n",
    "\n",
    "    def predict_accent(self):\n",
    "        # Get the selected audio file and extract its MFCC features\n",
    "        filename = self.file_label.text()\n",
    "        if filename == 'No file selected':\n",
    "            return\n",
    "        filepath = os.path.join('Datasets/TestSidang', filename)\n",
    "        audio, sr = librosa.load(filepath)\n",
    "        audio_preprocessed = self.preprocess_audio(audio)\n",
    "        mfccs = librosa.feature.mfcc(y=audio_preprocessed, sr=sr, n_mfcc=40)\n",
    "        # Flatten MFCCs into a 1D array using mean\n",
    "        mfccs = np.mean(mfccs, axis=1)\n",
    "\n",
    "        # Reshape MFCCs into a 2D array with a single row\n",
    "        mfccs = mfccs.reshape(1, -1)\n",
    "\n",
    "        # Turn the multidimensional array into 1 dimensional array\n",
    "        flattened_mfcc = mfccs.flatten()\n",
    "        # Load the trained KNN classifier and make a prediction\n",
    "        knn = self.load_classifier()\n",
    "        if not knn:\n",
    "            return\n",
    "        prediction = knn.predict([flattened_mfcc])[0]\n",
    "\n",
    "        prediction_proba = knn.predict_proba([flattened_mfcc])\n",
    "\n",
    "        # self.result_text.setText(f'The accent of the selected audio file is {prediction}')\n",
    "\n",
    "        # Make a prediction using the KNN model\n",
    "        probabilities = knn.predict_proba(flattened_mfcc.reshape(1, -1))\n",
    "        classes = knn.classes_\n",
    "\n",
    "         # Display the prediction probabilities for each class in the text section\n",
    "        result_text = f\"The Accent is {prediction}\\n\"\n",
    "\n",
    "        result_text += \"Prediction Probabilities:\\n\"\n",
    "\n",
    "        for class_label, probability in zip(classes, probabilities[0]):\n",
    "            result_text += f\"{class_label}: {probability}\\n\"\n",
    "\n",
    "        self.result_text.setText(result_text)\n",
    "\n",
    "        # Display the prediction in the text box\n",
    "        # if prediction[0] == 0:\n",
    "        #     self.prediction_text.setText('The accent of the selected audio file is Lombok.')\n",
    "        # else:\n",
    "        #     self.prediction_text.setText('The accent of the selected audio file is Madura.')\n",
    "\n",
    "    def preprocess_audio(self, audio):\n",
    "        # Normalize the audio signal\n",
    "        audio_norm = librosa.util.normalize(audio)\n",
    "        # Apply pre-emphasis filter\n",
    "        pre_emphasis = 0.97\n",
    "        audio_preemph = np.append(audio_norm[0], audio_norm[1:] - pre_emphasis * audio_norm[:-1])\n",
    "        return audio_preemph\n",
    "\n",
    "    def load_classifier(self):\n",
    "        # Load the trained KNN classifier from disk\n",
    "        try:\n",
    "            clf = joblib.load('D:/DA/Skripsi/knn_model.pkl')\n",
    "            return clf\n",
    "        except:\n",
    "            self.prediction_text.setText('Error: could not load classifier.')\n",
    "            return None"
   ],
   "metadata": {
    "collapsed": false,
    "pycharm": {
     "name": "#%%\n"
    }
   }
  },
  {
   "cell_type": "code",
   "execution_count": 3,
   "outputs": [
    {
     "ename": "SystemExit",
     "evalue": "0",
     "output_type": "error",
     "traceback": [
      "An exception has occurred, use %tb to see the full traceback.\n",
      "\u001B[1;31mSystemExit\u001B[0m\u001B[1;31m:\u001B[0m 0\n"
     ]
    },
    {
     "name": "stderr",
     "output_type": "stream",
     "text": [
      "D:\\DA\\venv\\lib\\site-packages\\IPython\\core\\interactiveshell.py:3450: UserWarning: To exit: use 'exit', 'quit', or Ctrl-D.\n",
      "  warn(\"To exit: use 'exit', 'quit', or Ctrl-D.\", stacklevel=1)\n"
     ]
    }
   ],
   "source": [
    "if __name__ == '__main__':\n",
    "    app = QtWidgets.QApplication(sys.argv)\n",
    "    classifier = AccentClassifier()\n",
    "    sys.exit(app.exec_())"
   ],
   "metadata": {
    "collapsed": false,
    "pycharm": {
     "name": "#%%\n"
    }
   }
  }
 ],
 "metadata": {
  "kernelspec": {
   "display_name": "Python 3",
   "language": "python",
   "name": "python3"
  },
  "language_info": {
   "codemirror_mode": {
    "name": "ipython",
    "version": 2
   },
   "file_extension": ".py",
   "mimetype": "text/x-python",
   "name": "python",
   "nbconvert_exporter": "python",
   "pygments_lexer": "ipython2",
   "version": "2.7.6"
  }
 },
 "nbformat": 4,
 "nbformat_minor": 0
}